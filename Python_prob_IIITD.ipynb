{
  "nbformat": 4,
  "nbformat_minor": 0,
  "metadata": {
    "colab": {
      "name": "Python_Prob_IIITD.ipynb",
      "version": "0.3.2",
      "provenance": [],
      "collapsed_sections": []
    },
    "kernelspec": {
      "name": "python3",
      "display_name": "Python 3"
    }
  },
  "cells": [
    {
      "metadata": {
        "id": "C3-uE8WU2fSU",
        "colab_type": "text"
      },
      "cell_type": "markdown",
      "source": [
        "**Importing Required Libraries**"
      ]
    },
    {
      "metadata": {
        "id": "IITeMdcFpy9Y",
        "colab_type": "code",
        "colab": {}
      },
      "cell_type": "code",
      "source": [
        "import requests\n",
        "from requests_oauthlib import OAuth1\n",
        "import pandas as pd\n",
        "from datetime import datetime"
      ],
      "execution_count": 0,
      "outputs": []
    },
    {
      "metadata": {
        "id": "fyooM_SY3vlm",
        "colab_type": "text"
      },
      "cell_type": "markdown",
      "source": [
        "**Using Twitter API**\n",
        "\n",
        "Entering twitter API token values and creating auth parameter to be passed while making request"
      ]
    },
    {
      "metadata": {
        "id": "DTcR6XImp0lW",
        "colab_type": "code",
        "colab": {}
      },
      "cell_type": "code",
      "source": [
        "auth_params = {\n",
        "    'app_key':'enter API key',\n",
        "    'app_secret':'enter API secret key',\n",
        "    'oauth_token':'enter access token',\n",
        "    'oauth_token_secret':'enter access token secret'\n",
        "}\n",
        "\n",
        "# Creating an OAuth Client connection\n",
        "auth = OAuth1 (\n",
        "    auth_params['app_key'],\n",
        "    auth_params['app_secret'],\n",
        "    auth_params['oauth_token'],\n",
        "    auth_params['oauth_token_secret']\n",
        ")"
      ],
      "execution_count": 0,
      "outputs": []
    },
    {
      "metadata": {
        "id": "mbuWiyU67ggq",
        "colab_type": "text"
      },
      "cell_type": "markdown",
      "source": [
        "**Making the request to the url**"
      ]
    },
    {
      "metadata": {
        "id": "A5l-mCHsqQmN",
        "colab_type": "code",
        "colab": {}
      },
      "cell_type": "code",
      "source": [
        "# url according to twitter API\n",
        "url_rest = \"https://api.twitter.com/1.1/search/tweets.json\"\n",
        "\n",
        "# getting rid of retweets in the extraction results and filtering all replies to the tweet\n",
        "q = '%@midasIIITD -filter:retweets -filter:replies'\n",
        "\n",
        "params = {'q': q, 'lang': 'en',  'result_type': 'recent'}\n",
        "results = requests.get(url_rest, params=params, auth=auth)"
      ],
      "execution_count": 0,
      "outputs": []
    },
    {
      "metadata": {
        "id": "LajmHxps7oaJ",
        "colab_type": "text"
      },
      "cell_type": "markdown",
      "source": [
        "**Dumping results into a json**"
      ]
    },
    {
      "metadata": {
        "id": "BynJQ2956GQC",
        "colab_type": "code",
        "colab": {}
      },
      "cell_type": "code",
      "source": [
        "tweets = results.json()"
      ],
      "execution_count": 0,
      "outputs": []
    },
    {
      "metadata": {
        "id": "g5SIkKLS7tuB",
        "colab_type": "text"
      },
      "cell_type": "markdown",
      "source": [
        "**Parsing json file**"
      ]
    },
    {
      "metadata": {
        "id": "_bsGm98_3q8a",
        "colab_type": "code",
        "colab": {}
      },
      "cell_type": "code",
      "source": [
        "l = []\n",
        "for i in range(len(tweets['statuses'])):\n",
        "  temp = []\n",
        "  temp.append(tweets['statuses'][i]['text']) # appends text of ith tweet\n",
        "  temp.append(tweets['statuses'][i]['created_at']) # appends data and time of ith tweet\n",
        "  temp.append(tweets['statuses'][i]['favorite_count']) # appends number of favourites/likes of ith tweet\n",
        "  temp.append(tweets['statuses'][i]['retweet_count']) # appends retweet count of ith tweet\n",
        "  count = 0 # initialize number of photos in a tweet to be 0\n",
        "  if 'media' in tweets['statuses'][i]['entities'].keys(): # checks if any of 'media' (photos, videos etc) are present in tweet or not \n",
        "    for j in tweets['statuses'][i]['entities']['media']:  # traversing through all media elements in ith tweet\n",
        "      if j['type'] == 'photo':  # checks if media type is a photo\n",
        "        count += 1 # if media type is a photo, increment count\n",
        "  if count == 0:\n",
        "    temp.append(None) # appends None if no photos present in tweet\n",
        "  else:\n",
        "    temp.append(count) # appends number of photos in ith tweet if > 0\n",
        "  l.append(temp)\n",
        "\n",
        "# Put the List (l) into a dataframe and print the dataframe (table)\n",
        "data = pd.DataFrame(l, columns = ('Text', 'Data and Time of Tweet', 'Number of Favorites/Likes', 'Number of Retweets', 'Number of Images present in Tweet'))\n",
        "data"
      ],
      "execution_count": 0,
      "outputs": []
    }
  ]
}