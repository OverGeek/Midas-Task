{
  "nbformat": 4,
  "nbformat_minor": 0,
  "metadata": {
    "colab": {
      "name": "Python_prob_IIITD.ipynb",
      "version": "0.3.2",
      "provenance": []
    },
    "kernelspec": {
      "name": "python3",
      "display_name": "Python 3"
    }
  },
  "cells": [
    {
      "metadata": {
        "id": "IITeMdcFpy9Y",
        "colab_type": "code",
        "colab": {}
      },
      "cell_type": "code",
      "source": [
        "import requests\n",
        "import bs4\n",
        "from bs4 import BeautifulSoup\n",
        "from requests_oauthlib import OAuth1\n",
        "import pandas as pd"
      ],
      "execution_count": 0,
      "outputs": []
    },
    {
      "metadata": {
        "id": "DTcR6XImp0lW",
        "colab_type": "code",
        "colab": {}
      },
      "cell_type": "code",
      "source": [
        "auth_params = {\n",
        "    'app_key':'DdKKMDnqhxYDgAS1KyyR3FQJL',\n",
        "    'app_secret':'7BYKOLA1JHLcRqNQe3aBaofXLGScCYH0AgiFOmMURwgv3aoYgN',\n",
        "    'oauth_token':'1114574275489476608-2T6ZUF22mlGvKtHj1EQa5I4J2VhwTh',\n",
        "    'oauth_token_secret':'e3S4B4qf00kQ634GnL7ut33Luxly5eBNxpOns6sL9kqC7'\n",
        "}\n",
        "\n",
        "# Creating an OAuth Client connection\n",
        "auth = OAuth1 (\n",
        "    auth_params['app_key'],\n",
        "    auth_params['app_secret'],\n",
        "    auth_params['oauth_token'],\n",
        "    auth_params['oauth_token_secret']\n",
        ")"
      ],
      "execution_count": 0,
      "outputs": []
    },
    {
      "metadata": {
        "id": "A5l-mCHsqQmN",
        "colab_type": "code",
        "colab": {}
      },
      "cell_type": "code",
      "source": [
        "# url according to twitter API\n",
        "url_rest = \"https://api.twitter.com/1.1/search/tweets.json\"\n",
        "\n",
        "# getting rid of retweets in the extraction results and filtering all replies to the tweet\n",
        "q = '%@midasIIITD -filter:retweets -filter:replies'\n",
        "\n",
        "# count : no of tweets to be retrieved per one call and parameters according to twitter API\n",
        "params = {'q': q, 'lang': 'en',  'result_type': 'recent'}\n",
        "results = requests.get(url_rest, params=params, auth=auth)"
      ],
      "execution_count": 0,
      "outputs": []
    },
    {
      "metadata": {
        "id": "BynJQ2956GQC",
        "colab_type": "code",
        "colab": {}
      },
      "cell_type": "code",
      "source": [
        "tweets = results.json()"
      ],
      "execution_count": 0,
      "outputs": []
    },
    {
      "metadata": {
        "id": "_bsGm98_3q8a",
        "colab_type": "code",
        "outputId": "81f5beeb-c43a-476c-cf10-68207105ede1",
        "colab": {
          "base_uri": "https://localhost:8080/",
          "height": 266
        }
      },
      "cell_type": "code",
      "source": [
        "l = []\n",
        "for i in range(len(tweets['statuses'])):\n",
        "  temp = []\n",
        "  temp.append(BeautifulSoup(tweets['statuses'][i]['text'], 'html5lib').get_text())\n",
        "  temp.append(tweets['statuses'][i]['created_at'])\n",
        "  temp.append(tweets['statuses'][i]['favorite_count'])\n",
        "  temp.append(tweets['statuses'][i]['retweet_count'])\n",
        "  if 'media' in tweets['statuses'][i]['entities'].keys():\n",
        "    temp.append(len(tweets['statuses'][i]['entities']['media']))\n",
        "  else:\n",
        "    temp.append(None)\n",
        "  l.append(temp)\n",
        "\n",
        "data = pd.DataFrame(l, columns = ('Text', 'Data and Time of Tweet', 'Number of Favorites/Likes', 'Number of Retweets', 'Number of Images present in Tweet'))\n",
        "data"
      ],
      "execution_count": 0,
      "outputs": [
        {
          "output_type": "execute_result",
          "data": {
            "text/html": [
              "<div>\n",
              "<style scoped>\n",
              "    .dataframe tbody tr th:only-of-type {\n",
              "        vertical-align: middle;\n",
              "    }\n",
              "\n",
              "    .dataframe tbody tr th {\n",
              "        vertical-align: top;\n",
              "    }\n",
              "\n",
              "    .dataframe thead th {\n",
              "        text-align: right;\n",
              "    }\n",
              "</style>\n",
              "<table border=\"1\" class=\"dataframe\">\n",
              "  <thead>\n",
              "    <tr style=\"text-align: right;\">\n",
              "      <th></th>\n",
              "      <th>Text</th>\n",
              "      <th>Data and Time of Tweet</th>\n",
              "      <th>Number of Favorites/Likes</th>\n",
              "      <th>Number of Retweets</th>\n",
              "      <th>Number of Images present in Tweet</th>\n",
              "    </tr>\n",
              "  </thead>\n",
              "  <tbody>\n",
              "    <tr>\n",
              "      <th>0</th>\n",
              "      <td>We have emailed the task details to all candid...</td>\n",
              "      <td>Fri Apr 05 16:08:37 +0000 2019</td>\n",
              "      <td>8</td>\n",
              "      <td>1</td>\n",
              "      <td>None</td>\n",
              "    </tr>\n",
              "    <tr>\n",
              "      <th>1</th>\n",
              "      <td>Dear @midasIIITD internship candidates who hav...</td>\n",
              "      <td>Tue Apr 02 04:20:13 +0000 2019</td>\n",
              "      <td>8</td>\n",
              "      <td>1</td>\n",
              "      <td>None</td>\n",
              "    </tr>\n",
              "    <tr>\n",
              "      <th>2</th>\n",
              "      <td>Looking forward to your paper submission to @I...</td>\n",
              "      <td>Tue Apr 02 02:44:54 +0000 2019</td>\n",
              "      <td>5</td>\n",
              "      <td>1</td>\n",
              "      <td>None</td>\n",
              "    </tr>\n",
              "    <tr>\n",
              "      <th>3</th>\n",
              "      <td>Online application for https://t.co/DJFDrQsHZP...</td>\n",
              "      <td>Mon Apr 01 06:53:08 +0000 2019</td>\n",
              "      <td>7</td>\n",
              "      <td>2</td>\n",
              "      <td>None</td>\n",
              "    </tr>\n",
              "    <tr>\n",
              "      <th>4</th>\n",
              "      <td>Thanks for the support and help @debanjanbhucs...</td>\n",
              "      <td>Fri Mar 29 18:45:35 +0000 2019</td>\n",
              "      <td>7</td>\n",
              "      <td>2</td>\n",
              "      <td>None</td>\n",
              "    </tr>\n",
              "    <tr>\n",
              "      <th>5</th>\n",
              "      <td>Congratulations! @midasIIITD team, @isarth23 @...</td>\n",
              "      <td>Fri Mar 29 17:02:24 +0000 2019</td>\n",
              "      <td>9</td>\n",
              "      <td>1</td>\n",
              "      <td>None</td>\n",
              "    </tr>\n",
              "    <tr>\n",
              "      <th>6</th>\n",
              "      <td>Our work (@midasIIITD ) accepted at SemEval 20...</td>\n",
              "      <td>Fri Mar 29 16:58:43 +0000 2019</td>\n",
              "      <td>6</td>\n",
              "      <td>1</td>\n",
              "      <td>None</td>\n",
              "    </tr>\n",
              "  </tbody>\n",
              "</table>\n",
              "</div>"
            ],
            "text/plain": [
              "                                                Text  \\\n",
              "0  We have emailed the task details to all candid...   \n",
              "1  Dear @midasIIITD internship candidates who hav...   \n",
              "2  Looking forward to your paper submission to @I...   \n",
              "3  Online application for https://t.co/DJFDrQsHZP...   \n",
              "4  Thanks for the support and help @debanjanbhucs...   \n",
              "5  Congratulations! @midasIIITD team, @isarth23 @...   \n",
              "6  Our work (@midasIIITD ) accepted at SemEval 20...   \n",
              "\n",
              "           Data and Time of Tweet  Number of Favorites/Likes  \\\n",
              "0  Fri Apr 05 16:08:37 +0000 2019                          8   \n",
              "1  Tue Apr 02 04:20:13 +0000 2019                          8   \n",
              "2  Tue Apr 02 02:44:54 +0000 2019                          5   \n",
              "3  Mon Apr 01 06:53:08 +0000 2019                          7   \n",
              "4  Fri Mar 29 18:45:35 +0000 2019                          7   \n",
              "5  Fri Mar 29 17:02:24 +0000 2019                          9   \n",
              "6  Fri Mar 29 16:58:43 +0000 2019                          6   \n",
              "\n",
              "   Number of Retweets Number of Images present in Tweet  \n",
              "0                   1                              None  \n",
              "1                   1                              None  \n",
              "2                   1                              None  \n",
              "3                   2                              None  \n",
              "4                   2                              None  \n",
              "5                   1                              None  \n",
              "6                   1                              None  "
            ]
          },
          "metadata": {
            "tags": []
          },
          "execution_count": 179
        }
      ]
    }
  ]
}