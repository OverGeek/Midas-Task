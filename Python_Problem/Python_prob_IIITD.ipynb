{
  "nbformat": 4,
  "nbformat_minor": 0,
  "metadata": {
    "colab": {
      "name": "Python_Prob_IIITD.ipynb",
      "version": "0.3.2",
      "provenance": [],
      "collapsed_sections": []
    },
    "kernelspec": {
      "name": "python3",
      "display_name": "Python 3"
    }
  },
  "cells": [
    {
      "metadata": {
        "id": "C3-uE8WU2fSU",
        "colab_type": "text"
      },
      "cell_type": "markdown",
      "source": [
        "**Importing Required Libraries**"
      ]
    },
    {
      "metadata": {
        "id": "IITeMdcFpy9Y",
        "colab_type": "code",
        "colab": {}
      },
      "cell_type": "code",
      "source": [
        "import requests\n",
        "from requests_oauthlib import OAuth1\n",
        "import pandas as pd\n",
        "from datetime import datetime\n",
        "import json"
      ],
      "execution_count": 0,
      "outputs": []
    },
    {
      "metadata": {
        "id": "fyooM_SY3vlm",
        "colab_type": "text"
      },
      "cell_type": "markdown",
      "source": [
        "**Using Twitter API**\n",
        "\n",
        "Entering twitter API token values and creating auth parameter to be passed while making request"
      ]
    },
    {
      "metadata": {
        "id": "DTcR6XImp0lW",
        "colab_type": "code",
        "colab": {}
      },
      "cell_type": "code",
      "source": [
        "auth_params = {\n",
        "    'app_key':'DdKKMDnqhxYDgAS1KyyR3FQJL',\n",
        "    'app_secret':'7BYKOLA1JHLcRqNQe3aBaofXLGScCYH0AgiFOmMURwgv3aoYgN',\n",
        "    'oauth_token':'1114574275489476608-2T6ZUF22mlGvKtHj1EQa5I4J2VhwTh',\n",
        "    'oauth_token_secret':'e3S4B4qf00kQ634GnL7ut33Luxly5eBNxpOns6sL9kqC7'\n",
        "}\n",
        "\n",
        "# Creating an OAuth Client connection\n",
        "auth = OAuth1 (\n",
        "    auth_params['app_key'],\n",
        "    auth_params['app_secret'],\n",
        "    auth_params['oauth_token'],\n",
        "    auth_params['oauth_token_secret']\n",
        ")"
      ],
      "execution_count": 0,
      "outputs": []
    },
    {
      "metadata": {
        "id": "mbuWiyU67ggq",
        "colab_type": "text"
      },
      "cell_type": "markdown",
      "source": [
        "**Making the request to the url**"
      ]
    },
    {
      "metadata": {
        "id": "A5l-mCHsqQmN",
        "colab_type": "code",
        "colab": {}
      },
      "cell_type": "code",
      "source": [
        "# url according to twitter API\n",
        "url_rest = \"https://api.twitter.com/1.1/search/tweets.json\"\n",
        "\n",
        "# getting rid of retweets in the extraction results and filtering all replies to the tweet\n",
        "q = '%@midasIIITD -filter:retweets -filter:replies'\n",
        "\n",
        "params = {'q': q, 'lang': 'en',  'result_type': 'recent'}\n",
        "results = requests.get(url_rest, params=params, auth=auth)"
      ],
      "execution_count": 0,
      "outputs": []
    },
    {
      "metadata": {
        "id": "LajmHxps7oaJ",
        "colab_type": "text"
      },
      "cell_type": "markdown",
      "source": [
        "**Dumping results into a jsonlines file**"
      ]
    },
    {
      "metadata": {
        "id": "BynJQ2956GQC",
        "colab_type": "code",
        "colab": {}
      },
      "cell_type": "code",
      "source": [
        "tweets = results.json()"
      ],
      "execution_count": 0,
      "outputs": []
    },
    {
      "metadata": {
        "id": "RoCj3uaiIId3",
        "colab_type": "code",
        "colab": {}
      },
      "cell_type": "code",
      "source": [
        "# These few lines dummp the tweet data into a jsonl file named 'twitter.jsonl'\n",
        "with open('twitter.jsonl', 'w') as dumpdata:\n",
        "  for i in tweets['statuses']:\n",
        "      json.dump(i, dumpdata)\n",
        "      dumpdata.write('\\n')"
      ],
      "execution_count": 0,
      "outputs": []
    },
    {
      "metadata": {
        "id": "g5SIkKLS7tuB",
        "colab_type": "text"
      },
      "cell_type": "markdown",
      "source": [
        "**Parsing jsonl file**"
      ]
    },
    {
      "metadata": {
        "id": "Fy2BHXauL2mv",
        "colab_type": "code",
        "colab": {}
      },
      "cell_type": "code",
      "source": [
        "#reading the jsonl file in jsonl_file variable\n",
        "with open('twitter.jsonl', 'r') as infile:\n",
        "    jsonl_file = infile.readlines()"
      ],
      "execution_count": 0,
      "outputs": []
    },
    {
      "metadata": {
        "id": "_bsGm98_3q8a",
        "colab_type": "code",
        "colab": {
          "base_uri": "https://localhost:8080/",
          "height": 690
        },
        "outputId": "c3c439b1-4690-49b5-f8ea-38ec76a1d49c"
      },
      "cell_type": "code",
      "source": [
        "# we will traverse through the read jsonl_file\n",
        "\n",
        "l = [] #empty list\n",
        "for i in range(len(jsonl_file)):\n",
        "  \n",
        "  temp = [] #empty list\n",
        "  temp.append(json.loads(jsonl_file[i])['text']) # appends text of ith tweet\n",
        "  temp.append(json.loads(jsonl_file[i])['created_at']) # appends data and time of ith tweet\n",
        "  temp.append(json.loads(jsonl_file[i])['favorite_count']) # appends number of favourites/likes of ith tweet\n",
        "  temp.append(json.loads(jsonl_file[i])['retweet_count']) # appends retweet count of ith tweet\n",
        "  \n",
        "  count = 0 # initialize number of photos in a tweet to be 0\n",
        "  \n",
        "  if 'media' in json.loads(jsonl_file[i])['entities'].keys(): # checks if any of 'media' (photos, videos etc) are present in tweet or not \n",
        "    \n",
        "    for j in json.loads(jsonl_file[i])['entities']['media']:  # traversing through all media elements in ith tweet\n",
        "      if j['type'] == 'photo':  # checks if media type is a photo\n",
        "        count += 1 # if media type is a photo, increment count\n",
        "  \n",
        "  if count == 0:\n",
        "    temp.append(None) # appends None if no photos present in tweet\n",
        "  else:\n",
        "    temp.append(count) # appends number of photos in ith tweet if > 0\n",
        "  l.append(temp)\n",
        "\n",
        "# Put the List (l) into a dataframe and print the dataframe (table)\n",
        "data = pd.DataFrame(l, columns = ('Text', 'Data and Time of Tweet', 'Number of Favorites/Likes', 'Number of Retweets', 'Number of Images present in Tweet'))\n",
        "data"
      ],
      "execution_count": 14,
      "outputs": [
        {
          "output_type": "execute_result",
          "data": {
            "text/html": [
              "<div>\n",
              "<style scoped>\n",
              "    .dataframe tbody tr th:only-of-type {\n",
              "        vertical-align: middle;\n",
              "    }\n",
              "\n",
              "    .dataframe tbody tr th {\n",
              "        vertical-align: top;\n",
              "    }\n",
              "\n",
              "    .dataframe thead th {\n",
              "        text-align: right;\n",
              "    }\n",
              "</style>\n",
              "<table border=\"1\" class=\"dataframe\">\n",
              "  <thead>\n",
              "    <tr style=\"text-align: right;\">\n",
              "      <th></th>\n",
              "      <th>Text</th>\n",
              "      <th>Data and Time of Tweet</th>\n",
              "      <th>Number of Favorites/Likes</th>\n",
              "      <th>Number of Retweets</th>\n",
              "      <th>Number of Images present in Tweet</th>\n",
              "    </tr>\n",
              "  </thead>\n",
              "  <tbody>\n",
              "    <tr>\n",
              "      <th>0</th>\n",
              "      <td>We will close the submission portal for submit...</td>\n",
              "      <td>Wed Apr 10 16:47:25 +0000 2019</td>\n",
              "      <td>2</td>\n",
              "      <td>1</td>\n",
              "      <td>None</td>\n",
              "    </tr>\n",
              "    <tr>\n",
              "      <th>1</th>\n",
              "      <td>Clarification: Our earlier post which indicate...</td>\n",
              "      <td>Wed Apr 10 09:01:29 +0000 2019</td>\n",
              "      <td>1</td>\n",
              "      <td>0</td>\n",
              "      <td>None</td>\n",
              "    </tr>\n",
              "    <tr>\n",
              "      <th>2</th>\n",
              "      <td>Many Congratulations to @midasIIITD student, S...</td>\n",
              "      <td>Mon Apr 08 07:08:12 +0000 2019</td>\n",
              "      <td>18</td>\n",
              "      <td>2</td>\n",
              "      <td>None</td>\n",
              "    </tr>\n",
              "    <tr>\n",
              "      <th>3</th>\n",
              "      <td>My twitter developer account is taking time to...</td>\n",
              "      <td>Sun Apr 07 13:45:58 +0000 2019</td>\n",
              "      <td>0</td>\n",
              "      <td>0</td>\n",
              "      <td>None</td>\n",
              "    </tr>\n",
              "    <tr>\n",
              "      <th>4</th>\n",
              "      <td>We request all students whose interview are sc...</td>\n",
              "      <td>Sun Apr 07 11:43:24 +0000 2019</td>\n",
              "      <td>1</td>\n",
              "      <td>1</td>\n",
              "      <td>None</td>\n",
              "    </tr>\n",
              "    <tr>\n",
              "      <th>5</th>\n",
              "      <td>Other queries: \"none of the Tweeter Apis give ...</td>\n",
              "      <td>Sun Apr 07 06:55:19 +0000 2019</td>\n",
              "      <td>5</td>\n",
              "      <td>2</td>\n",
              "      <td>None</td>\n",
              "    </tr>\n",
              "    <tr>\n",
              "      <th>6</th>\n",
              "      <td>Other queries: \"do we have to make two differe...</td>\n",
              "      <td>Sun Apr 07 06:53:38 +0000 2019</td>\n",
              "      <td>5</td>\n",
              "      <td>1</td>\n",
              "      <td>None</td>\n",
              "    </tr>\n",
              "    <tr>\n",
              "      <th>7</th>\n",
              "      <td>Other queries: \"If using Twitter api, it does ...</td>\n",
              "      <td>Sun Apr 07 05:32:27 +0000 2019</td>\n",
              "      <td>6</td>\n",
              "      <td>1</td>\n",
              "      <td>None</td>\n",
              "    </tr>\n",
              "    <tr>\n",
              "      <th>8</th>\n",
              "      <td>Response to some queries asked by students on ...</td>\n",
              "      <td>Sun Apr 07 05:29:40 +0000 2019</td>\n",
              "      <td>7</td>\n",
              "      <td>1</td>\n",
              "      <td>None</td>\n",
              "    </tr>\n",
              "    <tr>\n",
              "      <th>9</th>\n",
              "      <td>We have emailed the task details to all candid...</td>\n",
              "      <td>Fri Apr 05 16:08:37 +0000 2019</td>\n",
              "      <td>11</td>\n",
              "      <td>1</td>\n",
              "      <td>None</td>\n",
              "    </tr>\n",
              "    <tr>\n",
              "      <th>10</th>\n",
              "      <td>Dear @midasIIITD internship candidates who hav...</td>\n",
              "      <td>Tue Apr 02 04:20:13 +0000 2019</td>\n",
              "      <td>8</td>\n",
              "      <td>1</td>\n",
              "      <td>None</td>\n",
              "    </tr>\n",
              "    <tr>\n",
              "      <th>11</th>\n",
              "      <td>Looking forward to your paper submission to @I...</td>\n",
              "      <td>Tue Apr 02 02:44:54 +0000 2019</td>\n",
              "      <td>5</td>\n",
              "      <td>1</td>\n",
              "      <td>None</td>\n",
              "    </tr>\n",
              "    <tr>\n",
              "      <th>12</th>\n",
              "      <td>Online application for https://t.co/DJFDrQsHZP...</td>\n",
              "      <td>Mon Apr 01 06:53:08 +0000 2019</td>\n",
              "      <td>7</td>\n",
              "      <td>2</td>\n",
              "      <td>None</td>\n",
              "    </tr>\n",
              "  </tbody>\n",
              "</table>\n",
              "</div>"
            ],
            "text/plain": [
              "                                                 Text  \\\n",
              "0   We will close the submission portal for submit...   \n",
              "1   Clarification: Our earlier post which indicate...   \n",
              "2   Many Congratulations to @midasIIITD student, S...   \n",
              "3   My twitter developer account is taking time to...   \n",
              "4   We request all students whose interview are sc...   \n",
              "5   Other queries: \"none of the Tweeter Apis give ...   \n",
              "6   Other queries: \"do we have to make two differe...   \n",
              "7   Other queries: \"If using Twitter api, it does ...   \n",
              "8   Response to some queries asked by students on ...   \n",
              "9   We have emailed the task details to all candid...   \n",
              "10  Dear @midasIIITD internship candidates who hav...   \n",
              "11  Looking forward to your paper submission to @I...   \n",
              "12  Online application for https://t.co/DJFDrQsHZP...   \n",
              "\n",
              "            Data and Time of Tweet  Number of Favorites/Likes  \\\n",
              "0   Wed Apr 10 16:47:25 +0000 2019                          2   \n",
              "1   Wed Apr 10 09:01:29 +0000 2019                          1   \n",
              "2   Mon Apr 08 07:08:12 +0000 2019                         18   \n",
              "3   Sun Apr 07 13:45:58 +0000 2019                          0   \n",
              "4   Sun Apr 07 11:43:24 +0000 2019                          1   \n",
              "5   Sun Apr 07 06:55:19 +0000 2019                          5   \n",
              "6   Sun Apr 07 06:53:38 +0000 2019                          5   \n",
              "7   Sun Apr 07 05:32:27 +0000 2019                          6   \n",
              "8   Sun Apr 07 05:29:40 +0000 2019                          7   \n",
              "9   Fri Apr 05 16:08:37 +0000 2019                         11   \n",
              "10  Tue Apr 02 04:20:13 +0000 2019                          8   \n",
              "11  Tue Apr 02 02:44:54 +0000 2019                          5   \n",
              "12  Mon Apr 01 06:53:08 +0000 2019                          7   \n",
              "\n",
              "    Number of Retweets Number of Images present in Tweet  \n",
              "0                    1                              None  \n",
              "1                    0                              None  \n",
              "2                    2                              None  \n",
              "3                    0                              None  \n",
              "4                    1                              None  \n",
              "5                    2                              None  \n",
              "6                    1                              None  \n",
              "7                    1                              None  \n",
              "8                    1                              None  \n",
              "9                    1                              None  \n",
              "10                   1                              None  \n",
              "11                   1                              None  \n",
              "12                   2                              None  "
            ]
          },
          "metadata": {
            "tags": []
          },
          "execution_count": 14
        }
      ]
    },
    {
      "metadata": {
        "id": "_8N2XhQrMeDr",
        "colab_type": "code",
        "colab": {}
      },
      "cell_type": "code",
      "source": [
        ""
      ],
      "execution_count": 0,
      "outputs": []
    }
  ]
}