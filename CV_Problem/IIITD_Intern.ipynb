{
  "nbformat": 4,
  "nbformat_minor": 0,
  "metadata": {
    "colab": {
      "name": "IIITD_Intern.ipynb",
      "version": "0.3.2",
      "provenance": []
    },
    "kernelspec": {
      "name": "python3",
      "display_name": "Python 3"
    },
    "accelerator": "GPU"
  },
  "cells": [
    {
      "metadata": {
        "id": "MVu9Qk_g05CT",
        "colab_type": "code",
        "colab": {}
      },
      "cell_type": "code",
      "source": [
        "import pickle\n",
        "import numpy as np\n",
        "from PIL import Image\n",
        "import matplotlib.pyplot as plt\n",
        "import pandas as pd\n",
        "from sklearn.utils import shuffle\n",
        "from keras.models import Sequential\n",
        "from keras.layers.normalization import BatchNormalization\n",
        "from keras.layers.convolutional import Conv2D\n",
        "from keras.layers.convolutional import MaxPooling2D\n",
        "from keras.layers.core import Activation\n",
        "from keras.layers.core import Flatten\n",
        "from keras.layers.core import Dropout\n",
        "from keras.layers.core import Dense\n",
        "from keras import backend as K\n",
        "from keras.utils import np_utils"
      ],
      "execution_count": 0,
      "outputs": []
    },
    {
      "metadata": {
        "id": "D37LW-uY1pf_",
        "colab_type": "code",
        "colab": {}
      },
      "cell_type": "code",
      "source": [
        "with open('train_image.pkl', 'rb') as f:\n",
        "    train_images = pickle.load(f)\n",
        "\n",
        "with open('train_label.pkl', 'rb') as f:\n",
        "    train_labels = pickle.load(f)"
      ],
      "execution_count": 0,
      "outputs": []
    },
    {
      "metadata": {
        "id": "xClLJjWJ2mX5",
        "colab_type": "code",
        "colab": {
          "base_uri": "https://localhost:8080/",
          "height": 364
        },
        "outputId": "30e72f27-816a-40ef-b829-97f6ab84a35c"
      },
      "cell_type": "code",
      "source": [
        "train_images = np.array(train_images).reshape((8000, 28, 28, 1)).astype('uint8')\n",
        "img = Image.fromarray(train_images[5000].reshape((28, 28)).astype('uint8'), 'L')\n",
        "plt.imshow(img)"
      ],
      "execution_count": 51,
      "outputs": [
        {
          "output_type": "execute_result",
          "data": {
            "text/plain": [
              "<matplotlib.image.AxesImage at 0x7fba80e33908>"
            ]
          },
          "metadata": {
            "tags": []
          },
          "execution_count": 51
        },
        {
          "output_type": "display_data",
          "data": {
            "image/png": "[encoded data removed]",
            "text/plain": [
              "<Figure size 576x396 with 1 Axes>"
            ]
          },
          "metadata": {
            "tags": []
          }
        }
      ]
    },
    {
      "metadata": {
        "id": "Qw-unpXiiJM1",
        "colab_type": "code",
        "colab": {
          "base_uri": "https://localhost:8080/",
          "height": 34
        },
        "outputId": "a036b465-f4ba-458a-ff3a-0ba8e122955c"
      },
      "cell_type": "code",
      "source": [
        "for i in range(len(train_labels)):\n",
        "  if train_labels[i] == 2:\n",
        "    train_labels[i] = 1\n",
        "  elif train_labels[i] == 3:\n",
        "    train_labels[i] = 2\n",
        "  elif train_labels[i] == 6:\n",
        "    train_labels[i] = 3\n",
        "    \n",
        "print(set(train_labels))"
      ],
      "execution_count": 52,
      "outputs": [
        {
          "output_type": "stream",
          "text": [
            "{0, 1, 2, 3}\n"
          ],
          "name": "stdout"
        }
      ]
    },
    {
      "metadata": {
        "id": "zkHs8OpR2yrt",
        "colab_type": "code",
        "colab": {
          "base_uri": "https://localhost:8080/",
          "height": 500
        },
        "outputId": "3462be08-9475-4ddc-8a50-b48cbb1d5380"
      },
      "cell_type": "code",
      "source": [
        "train_images, train_labels = shuffle(train_images, train_labels)\n",
        "img = Image.fromarray(train_images[5000].reshape((28, 28)).astype('uint8'), 'L')\n",
        "print(train_labels[5000])\n",
        "plt.imshow(img)\n",
        "\n",
        "train_images = train_images.astype('float32')/255.0\n",
        "train_labels = np_utils.to_categorical(train_labels, 4)\n",
        "print(train_labels.shape)\n",
        "print(train_labels)"
      ],
      "execution_count": 53,
      "outputs": [
        {
          "output_type": "stream",
          "text": [
            "1\n",
            "(8000, 4)\n",
            "[[0. 0. 1. 0.]\n",
            " [0. 0. 0. 1.]\n",
            " [1. 0. 0. 0.]\n",
            " ...\n",
            " [1. 0. 0. 0.]\n",
            " [0. 0. 1. 0.]\n",
            " [0. 1. 0. 0.]]\n"
          ],
          "name": "stdout"
        },
        {
          "output_type": "display_data",
          "data": {
            "image/png": "[encoded data removed]",
            "text/plain": [
              "<Figure size 576x396 with 1 Axes>"
            ]
          },
          "metadata": {
            "tags": []
          }
        }
      ]
    },
    {
      "metadata": {
        "id": "YSPmyGVNf_Od",
        "colab_type": "code",
        "colab": {
          "base_uri": "https://localhost:8080/",
          "height": 986
        },
        "outputId": "16a100e4-964b-4886-918d-dae92311eb0f"
      },
      "cell_type": "code",
      "source": [
        "model = Sequential()\n",
        "inputShape = (28, 28, 1)\n",
        "\n",
        "\n",
        "model.add(Conv2D(32, (3, 3), padding=\"same\", input_shape=inputShape))\n",
        "model.add(Activation(\"relu\"))\n",
        "model.add(BatchNormalization(axis=-1))\n",
        "model.add(Conv2D(32, (3, 3), padding=\"same\"))\n",
        "model.add(Activation(\"relu\"))\n",
        "model.add(BatchNormalization(axis=-1))\n",
        "model.add(MaxPooling2D(pool_size=(2, 2)))\n",
        "model.add(Dropout(0.25))\n",
        "\n",
        "model.add(Conv2D(64, (3, 3), padding=\"same\"))\n",
        "model.add(Activation(\"relu\"))\n",
        "model.add(BatchNormalization(axis=-1))\n",
        "model.add(Conv2D(64, (3, 3), padding=\"same\"))\n",
        "model.add(Activation(\"relu\"))\n",
        "model.add(BatchNormalization(axis=-1))\n",
        "model.add(MaxPooling2D(pool_size=(2, 2)))\n",
        "model.add(Dropout(0.5))\n",
        "\n",
        "model.add(Flatten())\n",
        "model.add(Dense(512))\n",
        "model.add(Activation(\"relu\"))\n",
        "model.add(BatchNormalization())\n",
        "model.add(Dropout(0.5))\n",
        "\n",
        "model.add(Dense(256))\n",
        "model.add(Dropout(0.25))\n",
        "model.add(Dense(4))\n",
        "model.add(Activation(\"softmax\"))\n",
        "\n",
        "model.summary()"
      ],
      "execution_count": 54,
      "outputs": [
        {
          "output_type": "stream",
          "text": [
            "_________________________________________________________________\n",
            "Layer (type)                 Output Shape              Param #   \n",
            "=================================================================\n",
            "conv2d_21 (Conv2D)           (None, 28, 28, 32)        320       \n",
            "_________________________________________________________________\n",
            "activation_31 (Activation)   (None, 28, 28, 32)        0         \n",
            "_________________________________________________________________\n",
            "batch_normalization_26 (Batc (None, 28, 28, 32)        128       \n",
            "_________________________________________________________________\n",
            "conv2d_22 (Conv2D)           (None, 28, 28, 32)        9248      \n",
            "_________________________________________________________________\n",
            "activation_32 (Activation)   (None, 28, 28, 32)        0         \n",
            "_________________________________________________________________\n",
            "batch_normalization_27 (Batc (None, 28, 28, 32)        128       \n",
            "_________________________________________________________________\n",
            "max_pooling2d_11 (MaxPooling (None, 14, 14, 32)        0         \n",
            "_________________________________________________________________\n",
            "dropout_17 (Dropout)         (None, 14, 14, 32)        0         \n",
            "_________________________________________________________________\n",
            "conv2d_23 (Conv2D)           (None, 14, 14, 64)        18496     \n",
            "_________________________________________________________________\n",
            "activation_33 (Activation)   (None, 14, 14, 64)        0         \n",
            "_________________________________________________________________\n",
            "batch_normalization_28 (Batc (None, 14, 14, 64)        256       \n",
            "_________________________________________________________________\n",
            "conv2d_24 (Conv2D)           (None, 14, 14, 64)        36928     \n",
            "_________________________________________________________________\n",
            "activation_34 (Activation)   (None, 14, 14, 64)        0         \n",
            "_________________________________________________________________\n",
            "batch_normalization_29 (Batc (None, 14, 14, 64)        256       \n",
            "_________________________________________________________________\n",
            "max_pooling2d_12 (MaxPooling (None, 7, 7, 64)          0         \n",
            "_________________________________________________________________\n",
            "dropout_18 (Dropout)         (None, 7, 7, 64)          0         \n",
            "_________________________________________________________________\n",
            "flatten_6 (Flatten)          (None, 3136)              0         \n",
            "_________________________________________________________________\n",
            "dense_12 (Dense)             (None, 512)               1606144   \n",
            "_________________________________________________________________\n",
            "activation_35 (Activation)   (None, 512)               0         \n",
            "_________________________________________________________________\n",
            "batch_normalization_30 (Batc (None, 512)               2048      \n",
            "_________________________________________________________________\n",
            "dropout_19 (Dropout)         (None, 512)               0         \n",
            "_________________________________________________________________\n",
            "dense_13 (Dense)             (None, 256)               131328    \n",
            "_________________________________________________________________\n",
            "dropout_20 (Dropout)         (None, 256)               0         \n",
            "_________________________________________________________________\n",
            "dense_14 (Dense)             (None, 4)                 1028      \n",
            "_________________________________________________________________\n",
            "activation_36 (Activation)   (None, 4)                 0         \n",
            "=================================================================\n",
            "Total params: 1,806,308\n",
            "Trainable params: 1,804,900\n",
            "Non-trainable params: 1,408\n",
            "_________________________________________________________________\n"
          ],
          "name": "stdout"
        }
      ]
    },
    {
      "metadata": {
        "id": "d0-SY0TWgawC",
        "colab_type": "code",
        "colab": {
          "base_uri": "https://localhost:8080/",
          "height": 3454
        },
        "outputId": "938ee4e2-3eca-401b-f462-c49677ecee2e"
      },
      "cell_type": "code",
      "source": [
        "model.compile(loss=\"categorical_crossentropy\", optimizer='adam', metrics=[\"accuracy\"])\n",
        "history = model.fit(train_images, train_labels, validation_split = 0.2, shuffle = True, batch_size = 128, epochs=100)"
      ],
      "execution_count": 55,
      "outputs": [
        {
          "output_type": "stream",
          "text": [
            "Train on 6400 samples, validate on 1600 samples\n",
            "Epoch 1/100\n",
            "6400/6400 [==============================] - 5s 757us/step - loss: 1.1509 - acc: 0.6650 - val_loss: 0.6556 - val_acc: 0.7819\n",
            "Epoch 2/100\n",
            "6400/6400 [==============================] - 2s 308us/step - loss: 0.7504 - acc: 0.7450 - val_loss: 0.5515 - val_acc: 0.7906\n",
            "Epoch 3/100\n",
            "6400/6400 [==============================] - 2s 310us/step - loss: 0.6102 - acc: 0.7827 - val_loss: 0.4377 - val_acc: 0.8344\n",
            "Epoch 4/100\n",
            "6400/6400 [==============================] - 2s 307us/step - loss: 0.5466 - acc: 0.8066 - val_loss: 0.4297 - val_acc: 0.8394\n",
            "Epoch 5/100\n",
            "6400/6400 [==============================] - 2s 308us/step - loss: 0.5129 - acc: 0.8094 - val_loss: 0.4401 - val_acc: 0.8337\n",
            "Epoch 6/100\n",
            "6400/6400 [==============================] - 2s 304us/step - loss: 0.4709 - acc: 0.8206 - val_loss: 0.4188 - val_acc: 0.8356\n",
            "Epoch 7/100\n",
            "6400/6400 [==============================] - 2s 306us/step - loss: 0.4416 - acc: 0.8355 - val_loss: 0.4246 - val_acc: 0.8294\n",
            "Epoch 8/100\n",
            "6400/6400 [==============================] - 2s 305us/step - loss: 0.3964 - acc: 0.8503 - val_loss: 0.3651 - val_acc: 0.8588\n",
            "Epoch 9/100\n",
            "6400/6400 [==============================] - 2s 306us/step - loss: 0.3808 - acc: 0.8555 - val_loss: 0.3810 - val_acc: 0.8512\n",
            "Epoch 10/100\n",
            "6400/6400 [==============================] - 2s 303us/step - loss: 0.3538 - acc: 0.8619 - val_loss: 0.3209 - val_acc: 0.8762\n",
            "Epoch 11/100\n",
            "6400/6400 [==============================] - 2s 304us/step - loss: 0.3437 - acc: 0.8684 - val_loss: 0.3874 - val_acc: 0.8475\n",
            "Epoch 12/100\n",
            "6400/6400 [==============================] - 2s 304us/step - loss: 0.3572 - acc: 0.8616 - val_loss: 0.3248 - val_acc: 0.8775\n",
            "Epoch 13/100\n",
            "6400/6400 [==============================] - 2s 305us/step - loss: 0.3231 - acc: 0.8727 - val_loss: 0.3157 - val_acc: 0.8806\n",
            "Epoch 14/100\n",
            "6400/6400 [==============================] - 2s 309us/step - loss: 0.3057 - acc: 0.8811 - val_loss: 0.3158 - val_acc: 0.8812\n",
            "Epoch 15/100\n",
            "6400/6400 [==============================] - 2s 304us/step - loss: 0.2960 - acc: 0.8856 - val_loss: 0.3841 - val_acc: 0.8581\n",
            "Epoch 16/100\n",
            "6400/6400 [==============================] - 2s 303us/step - loss: 0.2825 - acc: 0.8931 - val_loss: 0.3108 - val_acc: 0.8856\n",
            "Epoch 17/100\n",
            "6400/6400 [==============================] - 2s 305us/step - loss: 0.2788 - acc: 0.8923 - val_loss: 0.2953 - val_acc: 0.8800\n",
            "Epoch 18/100\n",
            "6400/6400 [==============================] - 2s 304us/step - loss: 0.2676 - acc: 0.8975 - val_loss: 0.3121 - val_acc: 0.8788\n",
            "Epoch 19/100\n",
            "6400/6400 [==============================] - 2s 306us/step - loss: 0.2613 - acc: 0.8994 - val_loss: 0.2926 - val_acc: 0.8881\n",
            "Epoch 20/100\n",
            "6400/6400 [==============================] - 2s 302us/step - loss: 0.2631 - acc: 0.8967 - val_loss: 0.3250 - val_acc: 0.8844\n",
            "Epoch 21/100\n",
            "6400/6400 [==============================] - 2s 305us/step - loss: 0.2505 - acc: 0.9053 - val_loss: 0.3383 - val_acc: 0.8831\n",
            "Epoch 22/100\n",
            "6400/6400 [==============================] - 2s 306us/step - loss: 0.2520 - acc: 0.9012 - val_loss: 0.3854 - val_acc: 0.8550\n",
            "Epoch 23/100\n",
            "6400/6400 [==============================] - 2s 302us/step - loss: 0.2334 - acc: 0.9086 - val_loss: 0.2905 - val_acc: 0.9006\n",
            "Epoch 24/100\n",
            "6400/6400 [==============================] - 2s 305us/step - loss: 0.2201 - acc: 0.9153 - val_loss: 0.3807 - val_acc: 0.8781\n",
            "Epoch 25/100\n",
            "6400/6400 [==============================] - 2s 305us/step - loss: 0.2117 - acc: 0.9186 - val_loss: 0.3071 - val_acc: 0.8931\n",
            "Epoch 26/100\n",
            "6400/6400 [==============================] - 2s 301us/step - loss: 0.2083 - acc: 0.9169 - val_loss: 0.3586 - val_acc: 0.8794\n",
            "Epoch 27/100\n",
            "6400/6400 [==============================] - 2s 304us/step - loss: 0.2046 - acc: 0.9222 - val_loss: 0.3012 - val_acc: 0.8900\n",
            "Epoch 28/100\n",
            "6400/6400 [==============================] - 2s 305us/step - loss: 0.2146 - acc: 0.9164 - val_loss: 0.3172 - val_acc: 0.8950\n",
            "Epoch 29/100\n",
            "6400/6400 [==============================] - 2s 304us/step - loss: 0.2025 - acc: 0.9209 - val_loss: 0.2996 - val_acc: 0.8900\n",
            "Epoch 30/100\n",
            "6400/6400 [==============================] - 2s 303us/step - loss: 0.1850 - acc: 0.9280 - val_loss: 0.3220 - val_acc: 0.8888\n",
            "Epoch 31/100\n",
            "6400/6400 [==============================] - 2s 305us/step - loss: 0.1850 - acc: 0.9316 - val_loss: 0.3932 - val_acc: 0.8688\n",
            "Epoch 32/100\n",
            "6400/6400 [==============================] - 2s 303us/step - loss: 0.1784 - acc: 0.9325 - val_loss: 0.3195 - val_acc: 0.8969\n",
            "Epoch 33/100\n",
            "6400/6400 [==============================] - 2s 313us/step - loss: 0.1718 - acc: 0.9336 - val_loss: 0.3116 - val_acc: 0.9050\n",
            "Epoch 34/100\n",
            "6400/6400 [==============================] - 2s 309us/step - loss: 0.1568 - acc: 0.9405 - val_loss: 0.3004 - val_acc: 0.9012\n",
            "Epoch 35/100\n",
            "6400/6400 [==============================] - 2s 314us/step - loss: 0.1636 - acc: 0.9389 - val_loss: 0.2988 - val_acc: 0.8925\n",
            "Epoch 36/100\n",
            "6400/6400 [==============================] - 2s 313us/step - loss: 0.1588 - acc: 0.9367 - val_loss: 0.3758 - val_acc: 0.8775\n",
            "Epoch 37/100\n",
            "6400/6400 [==============================] - 2s 318us/step - loss: 0.1589 - acc: 0.9417 - val_loss: 0.3583 - val_acc: 0.8844\n",
            "Epoch 38/100\n",
            "6400/6400 [==============================] - 2s 318us/step - loss: 0.1961 - acc: 0.9264 - val_loss: 0.3533 - val_acc: 0.8812\n",
            "Epoch 39/100\n",
            "6400/6400 [==============================] - 2s 316us/step - loss: 0.1590 - acc: 0.9352 - val_loss: 0.3231 - val_acc: 0.8944\n",
            "Epoch 40/100\n",
            "6400/6400 [==============================] - 2s 314us/step - loss: 0.1709 - acc: 0.9358 - val_loss: 0.3921 - val_acc: 0.8762\n",
            "Epoch 41/100\n",
            "6400/6400 [==============================] - 2s 312us/step - loss: 0.1563 - acc: 0.9453 - val_loss: 0.3140 - val_acc: 0.8994\n",
            "Epoch 42/100\n",
            "6400/6400 [==============================] - 2s 328us/step - loss: 0.1392 - acc: 0.9470 - val_loss: 0.3392 - val_acc: 0.8881\n",
            "Epoch 43/100\n",
            "6400/6400 [==============================] - 2s 325us/step - loss: 0.1311 - acc: 0.9480 - val_loss: 0.3782 - val_acc: 0.9050\n",
            "Epoch 44/100\n",
            "6400/6400 [==============================] - 2s 338us/step - loss: 0.1456 - acc: 0.9439 - val_loss: 0.3502 - val_acc: 0.8969\n",
            "Epoch 45/100\n",
            "6400/6400 [==============================] - 2s 330us/step - loss: 0.1236 - acc: 0.9525 - val_loss: 0.3399 - val_acc: 0.8956\n",
            "Epoch 46/100\n",
            "6400/6400 [==============================] - 2s 336us/step - loss: 0.1172 - acc: 0.9541 - val_loss: 0.3931 - val_acc: 0.8862\n",
            "Epoch 47/100\n",
            "6400/6400 [==============================] - 2s 328us/step - loss: 0.1255 - acc: 0.9536 - val_loss: 0.3694 - val_acc: 0.8856\n",
            "Epoch 48/100\n",
            "6400/6400 [==============================] - 2s 331us/step - loss: 0.1074 - acc: 0.9600 - val_loss: 0.4007 - val_acc: 0.8881\n",
            "Epoch 49/100\n",
            "6400/6400 [==============================] - 2s 324us/step - loss: 0.1067 - acc: 0.9598 - val_loss: 0.4004 - val_acc: 0.8869\n",
            "Epoch 50/100\n",
            "6400/6400 [==============================] - 2s 331us/step - loss: 0.1022 - acc: 0.9636 - val_loss: 0.3994 - val_acc: 0.8912\n",
            "Epoch 51/100\n",
            "6400/6400 [==============================] - 2s 324us/step - loss: 0.1077 - acc: 0.9598 - val_loss: 0.3599 - val_acc: 0.8956\n",
            "Epoch 52/100\n",
            "6400/6400 [==============================] - 2s 328us/step - loss: 0.1077 - acc: 0.9573 - val_loss: 0.3679 - val_acc: 0.9000\n",
            "Epoch 53/100\n",
            "6400/6400 [==============================] - 2s 327us/step - loss: 0.1049 - acc: 0.9600 - val_loss: 0.3689 - val_acc: 0.8969\n",
            "Epoch 54/100\n",
            "6400/6400 [==============================] - 2s 330us/step - loss: 0.0980 - acc: 0.9630 - val_loss: 0.3889 - val_acc: 0.8925\n",
            "Epoch 55/100\n",
            "6400/6400 [==============================] - 2s 327us/step - loss: 0.0998 - acc: 0.9634 - val_loss: 0.3605 - val_acc: 0.8994\n",
            "Epoch 56/100\n",
            "6400/6400 [==============================] - 2s 329us/step - loss: 0.1000 - acc: 0.9592 - val_loss: 0.3799 - val_acc: 0.9038\n",
            "Epoch 57/100\n",
            "6400/6400 [==============================] - 2s 328us/step - loss: 0.0976 - acc: 0.9625 - val_loss: 0.3504 - val_acc: 0.9069\n",
            "Epoch 58/100\n",
            "6400/6400 [==============================] - 2s 329us/step - loss: 0.0855 - acc: 0.9683 - val_loss: 0.3512 - val_acc: 0.9044\n",
            "Epoch 59/100\n",
            "6400/6400 [==============================] - 2s 327us/step - loss: 0.0994 - acc: 0.9642 - val_loss: 0.4350 - val_acc: 0.8894\n",
            "Epoch 60/100\n",
            "6400/6400 [==============================] - 2s 329us/step - loss: 0.0910 - acc: 0.9637 - val_loss: 0.3797 - val_acc: 0.8975\n",
            "Epoch 61/100\n",
            "6400/6400 [==============================] - 2s 329us/step - loss: 0.0862 - acc: 0.9661 - val_loss: 0.3890 - val_acc: 0.9025\n",
            "Epoch 62/100\n",
            "6400/6400 [==============================] - 2s 328us/step - loss: 0.1023 - acc: 0.9613 - val_loss: 0.3825 - val_acc: 0.8988\n",
            "Epoch 63/100\n",
            "6400/6400 [==============================] - 2s 326us/step - loss: 0.0970 - acc: 0.9656 - val_loss: 0.3640 - val_acc: 0.9006\n",
            "Epoch 64/100\n",
            "6400/6400 [==============================] - 2s 329us/step - loss: 0.0845 - acc: 0.9672 - val_loss: 0.3987 - val_acc: 0.9025\n",
            "Epoch 65/100\n",
            "6400/6400 [==============================] - 2s 325us/step - loss: 0.0799 - acc: 0.9712 - val_loss: 0.3939 - val_acc: 0.8969\n",
            "Epoch 66/100\n",
            "6400/6400 [==============================] - 2s 329us/step - loss: 0.0740 - acc: 0.9719 - val_loss: 0.4074 - val_acc: 0.9038\n",
            "Epoch 67/100\n",
            "6400/6400 [==============================] - 2s 324us/step - loss: 0.0796 - acc: 0.9695 - val_loss: 0.3788 - val_acc: 0.9056\n",
            "Epoch 68/100\n",
            "6400/6400 [==============================] - 2s 329us/step - loss: 0.0841 - acc: 0.9723 - val_loss: 0.3945 - val_acc: 0.9100\n",
            "Epoch 69/100\n",
            "6400/6400 [==============================] - 2s 321us/step - loss: 0.0703 - acc: 0.9738 - val_loss: 0.4468 - val_acc: 0.8962\n",
            "Epoch 70/100\n",
            "6400/6400 [==============================] - 2s 320us/step - loss: 0.0876 - acc: 0.9684 - val_loss: 0.4346 - val_acc: 0.8950\n",
            "Epoch 71/100\n",
            "6400/6400 [==============================] - 2s 322us/step - loss: 0.0874 - acc: 0.9698 - val_loss: 0.3838 - val_acc: 0.9031\n",
            "Epoch 72/100\n",
            "6400/6400 [==============================] - 2s 328us/step - loss: 0.0825 - acc: 0.9708 - val_loss: 0.3621 - val_acc: 0.9062\n",
            "Epoch 73/100\n",
            "6400/6400 [==============================] - 2s 328us/step - loss: 0.0830 - acc: 0.9695 - val_loss: 0.4023 - val_acc: 0.9062\n",
            "Epoch 74/100\n",
            "6400/6400 [==============================] - 2s 330us/step - loss: 0.0660 - acc: 0.9778 - val_loss: 0.4262 - val_acc: 0.9106\n",
            "Epoch 75/100\n",
            "6400/6400 [==============================] - 2s 311us/step - loss: 0.0598 - acc: 0.9777 - val_loss: 0.3750 - val_acc: 0.9081\n",
            "Epoch 76/100\n",
            "6400/6400 [==============================] - 2s 307us/step - loss: 0.0639 - acc: 0.9769 - val_loss: 0.4267 - val_acc: 0.9081\n",
            "Epoch 77/100\n",
            "6400/6400 [==============================] - 2s 307us/step - loss: 0.0669 - acc: 0.9766 - val_loss: 0.4336 - val_acc: 0.9012\n",
            "Epoch 78/100\n",
            "6400/6400 [==============================] - 2s 305us/step - loss: 0.0666 - acc: 0.9755 - val_loss: 0.3842 - val_acc: 0.9031\n",
            "Epoch 79/100\n",
            "6400/6400 [==============================] - 2s 306us/step - loss: 0.0714 - acc: 0.9761 - val_loss: 0.3974 - val_acc: 0.9056\n",
            "Epoch 80/100\n",
            "6400/6400 [==============================] - 2s 304us/step - loss: 0.0583 - acc: 0.9791 - val_loss: 0.4433 - val_acc: 0.9031\n",
            "Epoch 81/100\n",
            "6400/6400 [==============================] - 2s 307us/step - loss: 0.0648 - acc: 0.9741 - val_loss: 0.5200 - val_acc: 0.8875\n",
            "Epoch 82/100\n",
            "6400/6400 [==============================] - 2s 312us/step - loss: 0.0638 - acc: 0.9762 - val_loss: 0.4183 - val_acc: 0.8975\n",
            "Epoch 83/100\n",
            "6400/6400 [==============================] - 2s 305us/step - loss: 0.0618 - acc: 0.9788 - val_loss: 0.3944 - val_acc: 0.9006\n",
            "Epoch 84/100\n",
            "6400/6400 [==============================] - 2s 306us/step - loss: 0.0693 - acc: 0.9766 - val_loss: 0.3723 - val_acc: 0.9069\n",
            "Epoch 85/100\n",
            "6400/6400 [==============================] - 2s 310us/step - loss: 0.0630 - acc: 0.9786 - val_loss: 0.3967 - val_acc: 0.9087\n",
            "Epoch 86/100\n",
            "6400/6400 [==============================] - 2s 321us/step - loss: 0.0541 - acc: 0.9814 - val_loss: 0.4002 - val_acc: 0.9075\n",
            "Epoch 87/100\n",
            "6400/6400 [==============================] - 2s 318us/step - loss: 0.0540 - acc: 0.9803 - val_loss: 0.4039 - val_acc: 0.9113\n",
            "Epoch 88/100\n",
            "6400/6400 [==============================] - 2s 305us/step - loss: 0.0558 - acc: 0.9819 - val_loss: 0.4358 - val_acc: 0.9000\n",
            "Epoch 89/100\n",
            "6400/6400 [==============================] - 2s 303us/step - loss: 0.0535 - acc: 0.9814 - val_loss: 0.3950 - val_acc: 0.9075\n",
            "Epoch 90/100\n",
            "6400/6400 [==============================] - 2s 303us/step - loss: 0.0448 - acc: 0.9842 - val_loss: 0.4135 - val_acc: 0.9094\n",
            "Epoch 91/100\n",
            "6400/6400 [==============================] - 2s 311us/step - loss: 0.0603 - acc: 0.9797 - val_loss: 0.4670 - val_acc: 0.8944\n",
            "Epoch 92/100\n",
            "6400/6400 [==============================] - 2s 310us/step - loss: 0.0575 - acc: 0.9786 - val_loss: 0.4866 - val_acc: 0.8906\n",
            "Epoch 93/100\n",
            "6400/6400 [==============================] - 2s 306us/step - loss: 0.0587 - acc: 0.9788 - val_loss: 0.4332 - val_acc: 0.9050\n",
            "Epoch 94/100\n",
            "6400/6400 [==============================] - 2s 311us/step - loss: 0.0634 - acc: 0.9770 - val_loss: 0.5119 - val_acc: 0.8869\n",
            "Epoch 95/100\n",
            "6400/6400 [==============================] - 2s 305us/step - loss: 0.0463 - acc: 0.9836 - val_loss: 0.4213 - val_acc: 0.9113\n",
            "Epoch 96/100\n",
            "6400/6400 [==============================] - 2s 307us/step - loss: 0.0540 - acc: 0.9811 - val_loss: 0.4746 - val_acc: 0.9050\n",
            "Epoch 97/100\n",
            "6400/6400 [==============================] - 2s 308us/step - loss: 0.0555 - acc: 0.9816 - val_loss: 0.4645 - val_acc: 0.9000\n",
            "Epoch 98/100\n",
            "6400/6400 [==============================] - 2s 308us/step - loss: 0.0561 - acc: 0.9800 - val_loss: 0.4312 - val_acc: 0.9000\n",
            "Epoch 99/100\n",
            "6400/6400 [==============================] - 2s 309us/step - loss: 0.0568 - acc: 0.9814 - val_loss: 0.4818 - val_acc: 0.8969\n",
            "Epoch 100/100\n",
            "6400/6400 [==============================] - 2s 304us/step - loss: 0.0593 - acc: 0.9794 - val_loss: 0.4122 - val_acc: 0.9025\n"
          ],
          "name": "stdout"
        }
      ]
    },
    {
      "metadata": {
        "id": "cKLUaTfpjGLs",
        "colab_type": "code",
        "colab": {}
      },
      "cell_type": "code",
      "source": [
        ""
      ],
      "execution_count": 0,
      "outputs": []
    }
  ]
}